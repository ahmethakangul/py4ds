{
 "cells": [
  {
   "attachments": {},
   "cell_type": "markdown",
   "metadata": {},
   "source": [
    "# Numpy in Python for DS\n",
    "\n",
    "Main component of scientific computing in Python. This library helps us to implement linear algebra in Python. "
   ]
  },
  {
   "cell_type": "code",
   "execution_count": 1,
   "metadata": {},
   "outputs": [
    {
     "name": "stdout",
     "output_type": "stream",
     "text": [
      "Requirement already satisfied: numpy in /opt/homebrew/anaconda3/envs/ds201/lib/python3.10/site-packages (1.24.2)\n"
     ]
    }
   ],
   "source": [
    "!pip install numpy"
   ]
  },
  {
   "cell_type": "code",
   "execution_count": 2,
   "metadata": {},
   "outputs": [
    {
     "data": {
      "text/plain": [
       "'1.24.2'"
      ]
     },
     "execution_count": 2,
     "metadata": {},
     "output_type": "execute_result"
    }
   ],
   "source": [
    "import numpy\n",
    "numpy.__version__"
   ]
  },
  {
   "attachments": {},
   "cell_type": "markdown",
   "metadata": {},
   "source": [
    "## Basics"
   ]
  },
  {
   "cell_type": "code",
   "execution_count": 3,
   "metadata": {},
   "outputs": [],
   "source": [
    "import numpy as np\n",
    "a_1d_vector = np.array([1, 2, 3])\n",
    "a_row_vector = np.array([[1, 2, 3]])\n",
    "a_column_vector = np.array([[1], [2], [3]])\n",
    "a_2d_matrix = np.array([\n",
    "    [1, 2, 3],\n",
    "    [4, 5, 6]\n",
    "    ])"
   ]
  },
  {
   "cell_type": "code",
   "execution_count": 27,
   "metadata": {},
   "outputs": [
    {
     "data": {
      "text/plain": [
       "numpy.ndarray"
      ]
     },
     "execution_count": 27,
     "metadata": {},
     "output_type": "execute_result"
    }
   ],
   "source": [
    "type(a_1d_vector)"
   ]
  },
  {
   "cell_type": "code",
   "execution_count": 4,
   "metadata": {},
   "outputs": [
    {
     "name": "stdout",
     "output_type": "stream",
     "text": [
      "(3,)\n",
      "(1, 3)\n",
      "(3, 1)\n",
      "(2, 3)\n"
     ]
    }
   ],
   "source": [
    "print(a_1d_vector.shape)\n",
    "print(a_row_vector.shape)\n",
    "print(a_column_vector.shape)\n",
    "print(a_2d_matrix.shape)"
   ]
  },
  {
   "cell_type": "code",
   "execution_count": 9,
   "metadata": {},
   "outputs": [],
   "source": [
    "random_matrix = np.random.rand(30, 30)"
   ]
  },
  {
   "cell_type": "code",
   "execution_count": 10,
   "metadata": {},
   "outputs": [
    {
     "name": "stdout",
     "output_type": "stream",
     "text": [
      "[[0.38921285 0.12342041 0.49565367 0.35970263 0.71730313 0.01900279\n",
      "  0.15651087 0.95604781 0.22351413 0.96385752 0.43256788 0.04243795\n",
      "  0.30071333 0.26935427 0.49310715 0.29541195 0.9719887  0.41534287\n",
      "  0.48898381 0.2988366  0.92095371 0.05100016 0.16007964 0.28853071\n",
      "  0.79046732 0.84622447 0.71179606 0.96959835 0.23035005 0.46755305]\n",
      " [0.30840432 0.13029664 0.24262256 0.97902216 0.791214   0.87510078\n",
      "  0.2749572  0.4494435  0.3736423  0.86478387 0.39446396 0.97369987\n",
      "  0.08262937 0.93690642 0.16584961 0.85127036 0.12734308 0.03482573\n",
      "  0.21104293 0.1821866  0.56050305 0.50453115 0.47734811 0.56252824\n",
      "  0.42905545 0.19030936 0.10790273 0.05561882 0.87776617 0.57865822]\n",
      " [0.92687926 0.17832864 0.25732635 0.09942725 0.50448103 0.74104797\n",
      "  0.57525326 0.95774803 0.42863438 0.82916566 0.59823647 0.65534226\n",
      "  0.77404215 0.01423103 0.25915422 0.73527331 0.37688536 0.09821653\n",
      "  0.91980673 0.08439376 0.72259769 0.74680136 0.09263116 0.58165431\n",
      "  0.34477166 0.03754116 0.59913761 0.21158261 0.54323266 0.23040796]\n",
      " [0.03125734 0.81162745 0.21904141 0.98996139 0.53995515 0.83422256\n",
      "  0.8083053  0.02744547 0.66657002 0.06082352 0.97219278 0.73666498\n",
      "  0.71537973 0.99156442 0.01378001 0.78560695 0.7517558  0.25939499\n",
      "  0.18944443 0.15796629 0.11059656 0.76490886 0.13370017 0.61647165\n",
      "  0.82823767 0.01671614 0.73660111 0.9194609  0.28135442 0.81464683]\n",
      " [0.14740162 0.17077831 0.19135495 0.15525492 0.64548096 0.07380898\n",
      "  0.95564907 0.36464503 0.85852996 0.19326384 0.75378777 0.67748894\n",
      "  0.17845154 0.33526086 0.5580173  0.9703779  0.83297178 0.70182892\n",
      "  0.85647084 0.98821316 0.51619122 0.76167008 0.06066279 0.30272894\n",
      "  0.7660981  0.42012363 0.72300157 0.45352121 0.85903727 0.81788269]\n",
      " [0.32747891 0.61372476 0.28074729 0.34401738 0.85509178 0.46146908\n",
      "  0.38832884 0.14359976 0.58094954 0.97279234 0.79299537 0.8845547\n",
      "  0.53582773 0.28503356 0.6343839  0.83734608 0.15830866 0.2767565\n",
      "  0.4173891  0.79103745 0.91835494 0.75215787 0.75719876 0.54182493\n",
      "  0.75754446 0.91470593 0.06053165 0.79789802 0.12697231 0.63196756]\n",
      " [0.28409003 0.75557894 0.6163313  0.18721333 0.36666787 0.27826949\n",
      "  0.74797383 0.1361459  0.6497177  0.18478166 0.94029425 0.75296537\n",
      "  0.10601037 0.54487848 0.51284925 0.88854879 0.36410987 0.65301762\n",
      "  0.78212948 0.80640844 0.56040199 0.85174265 0.45282676 0.84673584\n",
      "  0.64178188 0.79282912 0.88514879 0.47228435 0.4851369  0.80092778]\n",
      " [0.48896964 0.54421982 0.0648491  0.21545167 0.14904956 0.48126682\n",
      "  0.02016072 0.57390257 0.67629544 0.64803098 0.1391647  0.49309348\n",
      "  0.09802568 0.92410007 0.01580068 0.98266866 0.75184388 0.93077399\n",
      "  0.30066098 0.26991297 0.47474668 0.10627828 0.83299274 0.25350413\n",
      "  0.27016299 0.82196227 0.66066048 0.35674511 0.13833819 0.74383838]\n",
      " [0.98251238 0.85848198 0.27600613 0.54465911 0.38581242 0.96607755\n",
      "  0.83071223 0.65941378 0.59736846 0.78144854 0.08960524 0.87006178\n",
      "  0.52300829 0.33364933 0.84081993 0.31010884 0.7421535  0.05430875\n",
      "  0.73679319 0.73573381 0.16041892 0.11131395 0.47792167 0.14239539\n",
      "  0.39009712 0.13713687 0.13624165 0.83760869 0.49506358 0.98366353]\n",
      " [0.4813861  0.46714147 0.21576737 0.87496815 0.88212989 0.32986421\n",
      "  0.77030138 0.39690205 0.24207742 0.25855621 0.59930132 0.1506574\n",
      "  0.25995503 0.83711087 0.9779376  0.22321817 0.7008059  0.13848538\n",
      "  0.0791476  0.10624325 0.08061475 0.68374214 0.86371333 0.63267708\n",
      "  0.29477735 0.34946493 0.32102743 0.89041835 0.72691327 0.23140222]\n",
      " [0.45475016 0.44838871 0.59537971 0.67196189 0.76279882 0.15321576\n",
      "  0.98042735 0.67944706 0.64389548 0.9845273  0.1497106  0.58317559\n",
      "  0.89534832 0.20379553 0.83210494 0.44354572 0.54396624 0.30682771\n",
      "  0.55866081 0.99852119 0.99741097 0.1767568  0.64974657 0.85069747\n",
      "  0.53861776 0.7781153  0.98287034 0.95046533 0.49380593 0.07711365]\n",
      " [0.24225147 0.54299488 0.02182603 0.07573676 0.19395479 0.74928101\n",
      "  0.01285009 0.22682272 0.31628509 0.53721867 0.69504244 0.00340768\n",
      "  0.2859968  0.65986402 0.79595236 0.60639688 0.0297623  0.55783367\n",
      "  0.73330648 0.08546714 0.50817314 0.2257959  0.93833794 0.46145717\n",
      "  0.46758552 0.91091418 0.9346706  0.76146402 0.22533932 0.02418369]\n",
      " [0.45059221 0.54532816 0.62242737 0.00395525 0.92967564 0.79222458\n",
      "  0.12422861 0.60757011 0.41870743 0.27840223 0.02441526 0.09429818\n",
      "  0.94544955 0.22710848 0.494082   0.58105699 0.83340325 0.14589696\n",
      "  0.55993095 0.08590833 0.36476742 0.70089322 0.51518747 0.98620333\n",
      "  0.53395275 0.99123709 0.31274332 0.76165045 0.14604489 0.38919592]\n",
      " [0.08694605 0.77686068 0.44518643 0.6227171  0.98044103 0.9186312\n",
      "  0.59564109 0.30691477 0.60806436 0.53553636 0.72178119 0.08481451\n",
      "  0.18872823 0.22166922 0.24146161 0.55910057 0.60651739 0.84870604\n",
      "  0.64215831 0.42585756 0.65434037 0.52985694 0.22532069 0.40978124\n",
      "  0.27332161 0.73804753 0.52131818 0.10152318 0.24671267 0.60899012]\n",
      " [0.60209908 0.20235873 0.89960688 0.58162647 0.44514731 0.78559334\n",
      "  0.19204881 0.0597006  0.56299408 0.71189826 0.21977468 0.28654335\n",
      "  0.55881902 0.05418418 0.2419694  0.20897321 0.84132542 0.59609763\n",
      "  0.66628446 0.25981807 0.2536821  0.33302432 0.84621491 0.19947834\n",
      "  0.64013904 0.88169597 0.88565632 0.62379815 0.59619544 0.66957672]\n",
      " [0.92435388 0.98964499 0.03304573 0.21308851 0.68080798 0.83855144\n",
      "  0.74490597 0.27298687 0.26410462 0.72292351 0.63801478 0.69360629\n",
      "  0.80581622 0.48137301 0.25277086 0.01062328 0.41561153 0.62711024\n",
      "  0.08149851 0.67833326 0.29758009 0.9713257  0.28454832 0.57936573\n",
      "  0.99711583 0.06951251 0.13887282 0.75732828 0.77571874 0.12033574]\n",
      " [0.20118607 0.37968663 0.07421757 0.50528467 0.50156646 0.32795757\n",
      "  0.63716901 0.45353801 0.85628319 0.01957391 0.89691194 0.19562876\n",
      "  0.11224675 0.60425772 0.04067413 0.81454685 0.40978456 0.07838523\n",
      "  0.91590178 0.73446857 0.02984188 0.48473401 0.6096584  0.9193447\n",
      "  0.15243704 0.71615798 0.69250239 0.14235172 0.5163638  0.40132674]\n",
      " [0.51122243 0.0906257  0.22798861 0.88961117 0.99215161 0.29755315\n",
      "  0.99257062 0.52873965 0.97061975 0.62125803 0.70877888 0.21563184\n",
      "  0.39716224 0.34421281 0.64143371 0.61198974 0.08629444 0.68194876\n",
      "  0.40432952 0.10242457 0.24085202 0.47438494 0.85186089 0.68810664\n",
      "  0.95032223 0.30098265 0.00455489 0.10386161 0.9442374  0.34913142]\n",
      " [0.01749963 0.93186471 0.86026154 0.09459423 0.28587214 0.11520317\n",
      "  0.69372768 0.90077835 0.06340052 0.97549999 0.64693098 0.71165985\n",
      "  0.16187769 0.21539678 0.85088143 0.62009733 0.70661043 0.35435566\n",
      "  0.1700268  0.26608141 0.40118756 0.09519753 0.84005014 0.66621497\n",
      "  0.165542   0.99705886 0.68333982 0.57063406 0.46959969 0.19181172]\n",
      " [0.8016981  0.74902759 0.97651921 0.25620348 0.27378063 0.07290727\n",
      "  0.6476302  0.18451576 0.24026872 0.98806598 0.47321993 0.51058135\n",
      "  0.00780291 0.0737293  0.43047156 0.95935508 0.2603829  0.85373729\n",
      "  0.61941137 0.23158795 0.1740672  0.1917342  0.88163581 0.83052393\n",
      "  0.71298693 0.27080623 0.02249422 0.87508614 0.35591053 0.63193147]\n",
      " [0.99817605 0.81293557 0.05550335 0.7778878  0.51769061 0.26749255\n",
      "  0.49645226 0.57944576 0.11999542 0.35387364 0.27016094 0.6280205\n",
      "  0.97606394 0.96385359 0.0853439  0.39958916 0.24673062 0.78097641\n",
      "  0.58846772 0.6865892  0.06996031 0.54017023 0.81788887 0.60989309\n",
      "  0.67996323 0.33794694 0.00652375 0.49587405 0.51560735 0.81454242]\n",
      " [0.85305586 0.22614627 0.25056635 0.04975359 0.39385491 0.42672258\n",
      "  0.1027298  0.32614385 0.34042065 0.02656341 0.43302331 0.77051234\n",
      "  0.37988581 0.06049398 0.48481313 0.40766812 0.66571602 0.09717311\n",
      "  0.84706008 0.80972661 0.9317033  0.74407752 0.63817988 0.28695111\n",
      "  0.73431326 0.12324405 0.81603125 0.92647267 0.07370082 0.7714041 ]\n",
      " [0.62358869 0.24789731 0.1556669  0.25080278 0.62465761 0.41291325\n",
      "  0.58044849 0.76818392 0.49058016 0.67655003 0.98349241 0.5683268\n",
      "  0.33324446 0.39285568 0.33206888 0.42852    0.61156257 0.28984749\n",
      "  0.58733006 0.19064713 0.01331224 0.53638037 0.07132777 0.33233071\n",
      "  0.72827096 0.67398436 0.88394206 0.52865626 0.51574691 0.74972706]\n",
      " [0.47921673 0.79189314 0.24867976 0.46278186 0.08192962 0.07055888\n",
      "  0.79155113 0.43825968 0.10541724 0.12072761 0.35162485 0.85103928\n",
      "  0.28093578 0.81476594 0.43071997 0.15780373 0.3367859  0.81128526\n",
      "  0.92979829 0.92452808 0.99655625 0.58256465 0.80614287 0.20556469\n",
      "  0.25969166 0.3601047  0.49030421 0.98987878 0.17630768 0.35103209]\n",
      " [0.12510206 0.80309173 0.32089389 0.38157031 0.8208564  0.10369769\n",
      "  0.84281461 0.60780799 0.35486538 0.67910015 0.945932   0.8939657\n",
      "  0.8775238  0.03171372 0.28441516 0.68342455 0.53675434 0.75963438\n",
      "  0.25274078 0.61881208 0.53510586 0.51278366 0.13272907 0.38315104\n",
      "  0.24361451 0.1641588  0.53044496 0.3262433  0.34172718 0.19312993]\n",
      " [0.3109337  0.02136917 0.26629752 0.73449827 0.17543761 0.70068139\n",
      "  0.91053335 0.94360478 0.15322308 0.60134473 0.78910082 0.20432835\n",
      "  0.29281725 0.44786242 0.63840786 0.47177286 0.33671709 0.5528699\n",
      "  0.64168866 0.93933729 0.53783808 0.88798498 0.59953929 0.52762614\n",
      "  0.27135857 0.37724787 0.7662882  0.59019557 0.72532525 0.46776081]\n",
      " [0.53065443 0.71949809 0.37590223 0.96826952 0.58281136 0.79416062\n",
      "  0.9951469  0.8495702  0.49932123 0.81730647 0.69372863 0.20027059\n",
      "  0.29481986 0.58317993 0.35305306 0.07729789 0.0444567  0.0510398\n",
      "  0.63293893 0.05363985 0.01704209 0.46999244 0.17645928 0.97211086\n",
      "  0.07184281 0.33734766 0.15918787 0.29611697 0.5892115  0.1338823 ]\n",
      " [0.22296881 0.85262215 0.02552581 0.91861869 0.87837007 0.27932505\n",
      "  0.27828024 0.14534372 0.16143043 0.61773535 0.75781468 0.01475171\n",
      "  0.27973552 0.66878717 0.83354957 0.70196652 0.50255033 0.31838877\n",
      "  0.18982753 0.96715636 0.11055595 0.9417457  0.05151034 0.10411754\n",
      "  0.58431596 0.96251383 0.06073843 0.633067   0.75077435 0.37087104]\n",
      " [0.3217417  0.71104947 0.27324112 0.44493412 0.4987138  0.1959871\n",
      "  0.40199324 0.37294143 0.54272629 0.9416399  0.82632434 0.67614399\n",
      "  0.46047428 0.7752152  0.93951726 0.18833818 0.6649702  0.03187761\n",
      "  0.36832262 0.41084728 0.45724963 0.1886355  0.2619728  0.66186917\n",
      "  0.42404507 0.33409215 0.51674056 0.40698104 0.27815723 0.04814709]\n",
      " [0.28337509 0.3562925  0.6785065  0.53341056 0.88180084 0.42119843\n",
      "  0.54061751 0.90986884 0.20564149 0.31801654 0.00608014 0.36981727\n",
      "  0.85776606 0.05635598 0.20352524 0.13153169 0.83750366 0.20033852\n",
      "  0.95555649 0.58810869 0.29834614 0.61317461 0.83485802 0.67235634\n",
      "  0.82746634 0.52515679 0.06561475 0.14748908 0.13074144 0.85930163]]\n"
     ]
    }
   ],
   "source": [
    "print(random_matrix)"
   ]
  },
  {
   "cell_type": "code",
   "execution_count": 11,
   "metadata": {},
   "outputs": [
    {
     "data": {
      "text/plain": [
       "0.834222560309068"
      ]
     },
     "execution_count": 11,
     "metadata": {},
     "output_type": "execute_result"
    }
   ],
   "source": [
    "random_matrix[3, 5]"
   ]
  },
  {
   "cell_type": "code",
   "execution_count": 124,
   "metadata": {},
   "outputs": [
    {
     "data": {
      "text/plain": [
       "array([0.75059168, 0.11014011, 0.84860185, 0.67450341, 0.21025977,\n",
       "       0.50340844, 0.04855257, 0.81504576, 0.02671449, 0.74308264,\n",
       "       0.06849829, 0.14462425, 0.12297315, 0.99436337, 0.6315172 ,\n",
       "       0.76824108, 0.62777428, 0.6735005 , 0.1672391 , 0.20753785,\n",
       "       0.54854948, 0.48647827, 0.93658536, 0.88793968, 0.46553205,\n",
       "       0.78460994, 0.7842312 , 0.23266832, 0.65368229, 0.02928088])"
      ]
     },
     "execution_count": 124,
     "metadata": {},
     "output_type": "execute_result"
    }
   ],
   "source": [
    "random_matrix[3]"
   ]
  },
  {
   "cell_type": "code",
   "execution_count": 14,
   "metadata": {},
   "outputs": [
    {
     "data": {
      "text/plain": [
       "[2, 3]"
      ]
     },
     "execution_count": 14,
     "metadata": {},
     "output_type": "execute_result"
    }
   ],
   "source": [
    "alist = [1, 2, 3]\n",
    "alist[1:3]"
   ]
  },
  {
   "cell_type": "code",
   "execution_count": 17,
   "metadata": {},
   "outputs": [
    {
     "data": {
      "text/plain": [
       "array([0.01900279, 0.87510078, 0.74104797, 0.83422256, 0.07380898,\n",
       "       0.46146908, 0.27826949, 0.48126682, 0.96607755, 0.32986421,\n",
       "       0.15321576, 0.74928101, 0.79222458, 0.9186312 , 0.78559334,\n",
       "       0.83855144, 0.32795757, 0.29755315, 0.11520317, 0.07290727,\n",
       "       0.26749255, 0.42672258, 0.41291325, 0.07055888, 0.10369769,\n",
       "       0.70068139, 0.79416062, 0.27932505, 0.1959871 , 0.42119843])"
      ]
     },
     "execution_count": 17,
     "metadata": {},
     "output_type": "execute_result"
    }
   ],
   "source": [
    "random_matrix[:, 5]"
   ]
  },
  {
   "cell_type": "code",
   "execution_count": 18,
   "metadata": {},
   "outputs": [
    {
     "data": {
      "text/plain": [
       "array([0.74104797, 0.83422256, 0.07380898])"
      ]
     },
     "execution_count": 18,
     "metadata": {},
     "output_type": "execute_result"
    }
   ],
   "source": [
    "random_matrix[2:5, 5]"
   ]
  },
  {
   "cell_type": "code",
   "execution_count": 19,
   "metadata": {},
   "outputs": [
    {
     "data": {
      "text/plain": [
       "array([0.53995515, 0.83422256, 0.8083053 ])"
      ]
     },
     "execution_count": 19,
     "metadata": {},
     "output_type": "execute_result"
    }
   ],
   "source": [
    "random_matrix[3, 4:7]"
   ]
  },
  {
   "cell_type": "code",
   "execution_count": 130,
   "metadata": {},
   "outputs": [
    {
     "data": {
      "text/plain": [
       "array([[0.24798638, 0.27515681, 0.12688929],\n",
       "       [0.21025977, 0.50340844, 0.04855257],\n",
       "       [0.33489053, 0.09521122, 0.59688064]])"
      ]
     },
     "execution_count": 130,
     "metadata": {},
     "output_type": "execute_result"
    }
   ],
   "source": [
    "random_matrix[2:5, 4:7]"
   ]
  },
  {
   "cell_type": "code",
   "execution_count": 35,
   "metadata": {},
   "outputs": [
    {
     "name": "stdout",
     "output_type": "stream",
     "text": [
      "[[0 0 0]\n",
      " [0 0 0]]\n"
     ]
    }
   ],
   "source": [
    "a_zero_matrix = np.zeros((2, 3), dtype=np.int8)\n",
    "print(a_zero_matrix)"
   ]
  },
  {
   "cell_type": "code",
   "execution_count": 22,
   "metadata": {},
   "outputs": [
    {
     "name": "stdout",
     "output_type": "stream",
     "text": [
      "[[0 1 0]\n",
      " [0 0 0]]\n"
     ]
    }
   ],
   "source": [
    "a_zero_matrix[0, 1] = 1\n",
    "print(a_zero_matrix)"
   ]
  },
  {
   "cell_type": "code",
   "execution_count": 24,
   "metadata": {},
   "outputs": [
    {
     "name": "stdout",
     "output_type": "stream",
     "text": [
      "[[0 1 0]\n",
      " [0 0 0]]\n",
      "int8\n"
     ]
    }
   ],
   "source": [
    "a_zero_matrix[0, 1] = 1.2\n",
    "print(a_zero_matrix)\n",
    "print(a_zero_matrix.dtype)"
   ]
  },
  {
   "cell_type": "code",
   "execution_count": 25,
   "metadata": {},
   "outputs": [
    {
     "name": "stdout",
     "output_type": "stream",
     "text": [
      "[[ 0 19  0]\n",
      " [ 0  0  0]]\n",
      "int8\n"
     ]
    },
    {
     "name": "stderr",
     "output_type": "stream",
     "text": [
      "/var/folders/rg/r1h2qhf502n6zsj0xdv9t3cw0000gn/T/ipykernel_95051/358024267.py:1: DeprecationWarning: NumPy will stop allowing conversion of out-of-bound Python integers to integer arrays.  The conversion of 275 to int8 will fail in the future.\n",
      "For the old behavior, usually:\n",
      "    np.array(value).astype(dtype)`\n",
      "will give the desired result (the cast overflows).\n",
      "  a_zero_matrix[0, 1] = 275\n"
     ]
    }
   ],
   "source": [
    "a_zero_matrix[0, 1] = 275\n",
    "print(a_zero_matrix)\n",
    "print(a_zero_matrix.dtype)"
   ]
  },
  {
   "cell_type": "code",
   "execution_count": 26,
   "metadata": {},
   "outputs": [
    {
     "name": "stdout",
     "output_type": "stream",
     "text": [
      "[[1. 0. 0.]\n",
      " [0. 1. 0.]\n",
      " [0. 0. 1.]]\n"
     ]
    }
   ],
   "source": [
    "a_ones_matrix = np.ones((2, 3))\n",
    "a_diagonal_matrix = np.eye(3)\n",
    "print(a_diagonal_matrix)"
   ]
  },
  {
   "cell_type": "code",
   "execution_count": 30,
   "metadata": {},
   "outputs": [
    {
     "data": {
      "text/plain": [
       "array([[2, 3, 4],\n",
       "       [3, 4, 5],\n",
       "       [4, 5, 6]])"
      ]
     },
     "execution_count": 30,
     "metadata": {},
     "output_type": "execute_result"
    }
   ],
   "source": [
    "a_row_vector + a_column_vector"
   ]
  },
  {
   "cell_type": "code",
   "execution_count": 31,
   "metadata": {},
   "outputs": [
    {
     "data": {
      "text/plain": [
       "array([[2, 4, 6]])"
      ]
     },
     "execution_count": 31,
     "metadata": {},
     "output_type": "execute_result"
    }
   ],
   "source": [
    "a_row_vector + a_column_vector.T"
   ]
  },
  {
   "cell_type": "code",
   "execution_count": 36,
   "metadata": {},
   "outputs": [
    {
     "data": {
      "text/plain": [
       "array([[0, 0, 0],\n",
       "       [0, 0, 0]], dtype=int8)"
      ]
     },
     "execution_count": 36,
     "metadata": {},
     "output_type": "execute_result"
    }
   ],
   "source": [
    "a_zero_matrix"
   ]
  },
  {
   "cell_type": "code",
   "execution_count": 37,
   "metadata": {},
   "outputs": [
    {
     "data": {
      "text/plain": [
       "array([[0, 0, 0],\n",
       "       [0, 0, 0]])"
      ]
     },
     "execution_count": 37,
     "metadata": {},
     "output_type": "execute_result"
    }
   ],
   "source": [
    "np.multiply(a_2d_matrix, a_zero_matrix)"
   ]
  },
  {
   "cell_type": "code",
   "execution_count": 38,
   "metadata": {},
   "outputs": [
    {
     "data": {
      "text/plain": [
       "array([[1., 2., 3.],\n",
       "       [4., 5., 6.]])"
      ]
     },
     "execution_count": 38,
     "metadata": {},
     "output_type": "execute_result"
    }
   ],
   "source": [
    "a_2d_matrix * a_ones_matrix"
   ]
  },
  {
   "cell_type": "code",
   "execution_count": 40,
   "metadata": {},
   "outputs": [
    {
     "ename": "ValueError",
     "evalue": "operands could not be broadcast together with shapes (2,3) (3,3) ",
     "output_type": "error",
     "traceback": [
      "\u001b[0;31m---------------------------------------------------------------------------\u001b[0m",
      "\u001b[0;31mValueError\u001b[0m                                Traceback (most recent call last)",
      "Cell \u001b[0;32mIn[40], line 1\u001b[0m\n\u001b[0;32m----> 1\u001b[0m a_2d_matrix \u001b[39m+\u001b[39;49m a_diagonal_matrix\n",
      "\u001b[0;31mValueError\u001b[0m: operands could not be broadcast together with shapes (2,3) (3,3) "
     ]
    }
   ],
   "source": [
    "a_2d_matrix + a_diagonal_matrix"
   ]
  },
  {
   "cell_type": "code",
   "execution_count": 39,
   "metadata": {},
   "outputs": [
    {
     "ename": "ValueError",
     "evalue": "operands could not be broadcast together with shapes (2,3) (3,3) ",
     "output_type": "error",
     "traceback": [
      "\u001b[0;31m---------------------------------------------------------------------------\u001b[0m",
      "\u001b[0;31mValueError\u001b[0m                                Traceback (most recent call last)",
      "Cell \u001b[0;32mIn[39], line 1\u001b[0m\n\u001b[0;32m----> 1\u001b[0m a_2d_matrix \u001b[39m*\u001b[39;49m a_diagonal_matrix\n",
      "\u001b[0;31mValueError\u001b[0m: operands could not be broadcast together with shapes (2,3) (3,3) "
     ]
    }
   ],
   "source": [
    "a_2d_matrix * a_diagonal_matrix"
   ]
  },
  {
   "cell_type": "code",
   "execution_count": 41,
   "metadata": {},
   "outputs": [
    {
     "data": {
      "text/plain": [
       "array([[1., 2., 3.],\n",
       "       [4., 5., 6.]])"
      ]
     },
     "execution_count": 41,
     "metadata": {},
     "output_type": "execute_result"
    }
   ],
   "source": [
    "np.matmul(a_2d_matrix, a_diagonal_matrix)"
   ]
  },
  {
   "cell_type": "code",
   "execution_count": 42,
   "metadata": {},
   "outputs": [
    {
     "ename": "ValueError",
     "evalue": "matmul: Input operand 1 has a mismatch in its core dimension 0, with gufunc signature (n?,k),(k,m?)->(n?,m?) (size 2 is different from 3)",
     "output_type": "error",
     "traceback": [
      "\u001b[0;31m---------------------------------------------------------------------------\u001b[0m",
      "\u001b[0;31mValueError\u001b[0m                                Traceback (most recent call last)",
      "Cell \u001b[0;32mIn[42], line 1\u001b[0m\n\u001b[0;32m----> 1\u001b[0m np\u001b[39m.\u001b[39;49mmatmul(a_2d_matrix, a_ones_matrix)\n",
      "\u001b[0;31mValueError\u001b[0m: matmul: Input operand 1 has a mismatch in its core dimension 0, with gufunc signature (n?,k),(k,m?)->(n?,m?) (size 2 is different from 3)"
     ]
    }
   ],
   "source": [
    "np.matmul(a_2d_matrix, a_ones_matrix)"
   ]
  },
  {
   "cell_type": "code",
   "execution_count": 46,
   "metadata": {},
   "outputs": [
    {
     "data": {
      "text/plain": [
       "array([[1, 2, 3],\n",
       "       [4, 5, 6]])"
      ]
     },
     "execution_count": 46,
     "metadata": {},
     "output_type": "execute_result"
    }
   ],
   "source": [
    "a_2d_matrix"
   ]
  },
  {
   "cell_type": "code",
   "execution_count": 45,
   "metadata": {},
   "outputs": [
    {
     "data": {
      "text/plain": [
       "array([[ 6.,  6.],\n",
       "       [15., 15.]])"
      ]
     },
     "execution_count": 45,
     "metadata": {},
     "output_type": "execute_result"
    }
   ],
   "source": [
    "np.matmul(a_2d_matrix, a_ones_matrix.T)"
   ]
  },
  {
   "cell_type": "code",
   "execution_count": 73,
   "metadata": {},
   "outputs": [
    {
     "data": {
      "text/plain": [
       "array([[14]])"
      ]
     },
     "execution_count": 73,
     "metadata": {},
     "output_type": "execute_result"
    }
   ],
   "source": [
    "np.matmul(a_row_vector, a_column_vector)"
   ]
  },
  {
   "cell_type": "code",
   "execution_count": 74,
   "metadata": {},
   "outputs": [
    {
     "data": {
      "text/plain": [
       "array([[1, 2, 3],\n",
       "       [2, 4, 6],\n",
       "       [3, 6, 9]])"
      ]
     },
     "execution_count": 74,
     "metadata": {},
     "output_type": "execute_result"
    }
   ],
   "source": [
    "np.matmul(a_column_vector, a_row_vector)"
   ]
  },
  {
   "cell_type": "code",
   "execution_count": 47,
   "metadata": {},
   "outputs": [
    {
     "name": "stdout",
     "output_type": "stream",
     "text": [
      "[[1 2 3]\n",
      " [4 5 6]]\n"
     ]
    },
    {
     "data": {
      "text/plain": [
       "array([5, 7, 9])"
      ]
     },
     "execution_count": 47,
     "metadata": {},
     "output_type": "execute_result"
    }
   ],
   "source": [
    "print(a_2d_matrix)\n",
    "np.sum(a_2d_matrix, axis=0) # sum of columns"
   ]
  },
  {
   "cell_type": "code",
   "execution_count": 99,
   "metadata": {},
   "outputs": [
    {
     "data": {
      "text/plain": [
       "array([ 6, 15])"
      ]
     },
     "execution_count": 99,
     "metadata": {},
     "output_type": "execute_result"
    }
   ],
   "source": [
    "np.sum(a_2d_matrix, axis=1) # sum of rows"
   ]
  },
  {
   "cell_type": "code",
   "execution_count": 48,
   "metadata": {},
   "outputs": [
    {
     "data": {
      "text/plain": [
       "21"
      ]
     },
     "execution_count": 48,
     "metadata": {},
     "output_type": "execute_result"
    }
   ],
   "source": [
    "np.sum(a_2d_matrix)"
   ]
  },
  {
   "cell_type": "code",
   "execution_count": 100,
   "metadata": {},
   "outputs": [
    {
     "data": {
      "text/plain": [
       "array([4, 5, 6])"
      ]
     },
     "execution_count": 100,
     "metadata": {},
     "output_type": "execute_result"
    }
   ],
   "source": [
    "np.max(a_2d_matrix, axis=0) # max of columns"
   ]
  },
  {
   "cell_type": "code",
   "execution_count": 104,
   "metadata": {},
   "outputs": [
    {
     "data": {
      "text/plain": [
       "array([2.5, 3.5, 4.5])"
      ]
     },
     "execution_count": 104,
     "metadata": {},
     "output_type": "execute_result"
    }
   ],
   "source": [
    "np.mean(a_2d_matrix, axis=0) # mean of columnsb"
   ]
  },
  {
   "cell_type": "code",
   "execution_count": 105,
   "metadata": {},
   "outputs": [
    {
     "data": {
      "text/plain": [
       "3.5"
      ]
     },
     "execution_count": 105,
     "metadata": {},
     "output_type": "execute_result"
    }
   ],
   "source": [
    "np.mean(a_2d_matrix)"
   ]
  },
  {
   "attachments": {},
   "cell_type": "markdown",
   "metadata": {},
   "source": [
    "Linear combinations - solver"
   ]
  },
  {
   "attachments": {},
   "cell_type": "markdown",
   "metadata": {},
   "source": [
    "3x + 2y = 9\n",
    "5x + 23y = 15\n",
    "What are x and y?\n"
   ]
  },
  {
   "cell_type": "code",
   "execution_count": 50,
   "metadata": {},
   "outputs": [],
   "source": [
    "A = np.matrix([\n",
    "    [3,2],\n",
    "    [5,23]\n",
    "])\n",
    "y = np.matrix([\n",
    "    [9], \n",
    "    [15]\n",
    "])"
   ]
  },
  {
   "cell_type": "code",
   "execution_count": 51,
   "metadata": {},
   "outputs": [
    {
     "name": "stdout",
     "output_type": "stream",
     "text": [
      "[[3.00000000e+00]\n",
      " [1.12904036e-16]]\n"
     ]
    }
   ],
   "source": [
    "x = np.linalg.solve(A, y)\n",
    "print(x)"
   ]
  },
  {
   "cell_type": "code",
   "execution_count": null,
   "metadata": {},
   "outputs": [],
   "source": []
  }
 ],
 "metadata": {
  "kernelspec": {
   "display_name": "ds201",
   "language": "python",
   "name": "python3"
  },
  "language_info": {
   "codemirror_mode": {
    "name": "ipython",
    "version": 3
   },
   "file_extension": ".py",
   "mimetype": "text/x-python",
   "name": "python",
   "nbconvert_exporter": "python",
   "pygments_lexer": "ipython3",
   "version": "3.10.9"
  },
  "orig_nbformat": 4
 },
 "nbformat": 4,
 "nbformat_minor": 2
}
